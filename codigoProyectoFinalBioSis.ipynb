{
 "cells": [
  {
   "cell_type": "code",
   "execution_count": 186,
   "metadata": {},
   "outputs": [],
   "source": [
    "import numpy as np\n",
    "import matplotlib.pyplot as plt\n",
    "import numba"
   ]
  },
  {
   "cell_type": "markdown",
   "metadata": {},
   "source": [
    "<h1>Implementación del algoritmo de Gillespie en Hemoglobina</h1>\n",
    "Para esta simulación, se mide el tiempo que le toma a una hemoglobina llenarse completamente en medio de distintas situaciones\n",
    "en donde las probabilidades de que una molécula se pegue se hace por medio del algoritmo de Gillespie. <br>\n",
    "\n",
    "<b>Autores:</b> Juan Esteban Sandoval y Laura Zamudio Chávez"
   ]
  },
  {
   "cell_type": "code",
   "execution_count": 187,
   "metadata": {},
   "outputs": [],
   "source": [
    "#Constantes importantes\n",
    "kO2 = 0.001 #Estimado\n",
    "kCO = 200*kO2 #Tomado de la literatura\n",
    "its = 100000 #Iteraciones totales para esta simulación\n",
    "itsG = 100 #Iteraciones del método de gillespie (son 10 ya que converge rápido)"
   ]
  },
  {
   "cell_type": "markdown",
   "metadata": {},
   "source": [
    "<h2>Situación 1: Medio con CO abundante</h2>\n",
    "En este, la probabilidad de que se pegue un O2 a la hemoglobina es muy alta, pero aún así la afinidad del CO sigue siendo muy alta en caso de que se encuentre."
   ]
  },
  {
   "cell_type": "code",
   "execution_count": 209,
   "metadata": {},
   "outputs": [],
   "source": [
    "def gillespieS1(tmax):\n",
    "    h = 0 #Hemoglobinas\n",
    "    t = np.zeros(tmax)\n",
    "    \n",
    "    for i in range(tmax-1):\n",
    "        ko2 = kO2*(1+h) #Esto modela el incremento de la afinidad según el pegado de O2\n",
    "        s1 = ko2/(1+(h/ko2)**4) #Función de Hill de orden 4\n",
    "        \n",
    "        kco = kCO*(1+h) #Esto modela el incremento de la afinidad según el pegado de CO\n",
    "        s2 =  kco/(1+(h/kco)**4) #Función de Hill de orden 4\n",
    "        st = s1+s2\n",
    "    \n",
    "        #Generación del paso temporal \n",
    "        t[i+1] = t[i]+(-1/st)*np.log(np.random.rand())\n",
    "        \n",
    "        #Número aleatorio que corresponde al medio: Mucho O2 implica desviación proporcional a s1\n",
    "        m = np.random.normal(loc = s1,scale = s1/10000)\n",
    "        \n",
    "        #Caso en el que se pega una molécula de O2\n",
    "        if m <= (s1/st):\n",
    "            h += 1\n",
    "        \n",
    "        #En el caso en el que se pegue una molécula de CO, se modela como si no se hubiera pegado nada\n",
    "        elif m <= (s1+s2)/st:\n",
    "            h += 0\n",
    "            \n",
    "        if h == 4:\n",
    "            break\n",
    "                 \n",
    "    return max(t)\n",
    "\n",
    "tO2 = [] #Tiempos de llenado para este medio\n",
    "\n",
    "for i in range(its):\n",
    "    tO2.append(gillespieS1(itsG))"
   ]
  },
  {
   "cell_type": "markdown",
   "metadata": {},
   "source": [
    "<h2>Situación 2: Medio con O2 abundante</h2>\n",
    "En este, la probabilidad de que se pegue un O2 a la hemoglobina es más alta, por lo que el número aleatorio tiene una desviación estándar más grande."
   ]
  },
  {
   "cell_type": "code",
   "execution_count": 210,
   "metadata": {},
   "outputs": [],
   "source": [
    "def gillespieS2(tmax):\n",
    "    h = 0 #Hemoglobinas\n",
    "    t = np.zeros(tmax)\n",
    "    \n",
    "    for i in range(tmax-1):\n",
    "        ko2 = kO2*(1+h) #Esto modela el incremento de la afinidad según el pegado de O2\n",
    "        s1 = ko2/(1+(h/ko2)**4) #Función de Hill de orden 4\n",
    "        \n",
    "        kco = kCO*(1+h) #Esto modela el incremento de la afinidad según el pegado de CO\n",
    "        s2 =  kco/(1+(h/kco)**4) #Función de Hill de orden 4\n",
    "        st = s1+s2\n",
    "    \n",
    "        #Generación del paso temporal \n",
    "        t[i+1] = t[i]+(-1/st)*np.log(np.random.rand())\n",
    "        \n",
    "        #Número aleatorio que corresponde al medio: Mucho CO implica desviación proporcional a s2\n",
    "        m = np.random.normal(loc = s2 ,scale = s2/10000)\n",
    "        \n",
    "        #Caso en el que se pega una molécula de O2\n",
    "        if m <= (s1/st):\n",
    "            h += 1\n",
    "        \n",
    "        #En el caso en el que se pegue una molécula de CO, se modela como si no se hubiera pegado nada\n",
    "        elif m <= (s1+s2)/st:\n",
    "            h += 0\n",
    "            \n",
    "        if h == 4:\n",
    "            break\n",
    "                 \n",
    "    return max(t)\n",
    "\n",
    "tCO = [] #Tiempos de llenado para este medio\n",
    "\n",
    "for i in range(its):\n",
    "    tCO.append(gillespieS2(itsG))"
   ]
  },
  {
   "cell_type": "code",
   "execution_count": 211,
   "metadata": {},
   "outputs": [
    {
     "data": {
      "image/png": "[encoded data removed]",
      "text/plain": [
       "<Figure size 864x432 with 2 Axes>"
      ]
     },
     "metadata": {
      "needs_background": "light"
     },
     "output_type": "display_data"
    }
   ],
   "source": [
    "#Graficando \n",
    "plt.figure(figsize=(12,6))\n",
    "plt.suptitle(\"Tiempos medio de ligado en diferentes medios\")\n",
    "\n",
    "plt.subplot(121)\n",
    "plt.title(\"CO abundante\")\n",
    "plt.hist(tO2,density=True)\n",
    "plt.vlines(np.mean(tO2),0,0.08,color=\"red\",label=\"$\\\\tau = {:.0f} \\pm {:.0f} $ ms\".format(np.mean(tO2),np.std(tO2)))\n",
    "plt.xlabel(\"Tiempo de llenado (ms)\")\n",
    "plt.legend()\n",
    "\n",
    "plt.subplot(122)\n",
    "plt.title(\"O2 abundante\")\n",
    "plt.hist(tCO,density=True)\n",
    "plt.vlines(np.mean(tCO),0,0.03,color=\"red\",label=\"$\\\\tau = {:.0f} \\pm {:.0f} $ ms\".format(np.mean(tCO),np.std(tCO)))\n",
    "plt.xlabel(\"Tiempo de llenado (ms)\")\n",
    "plt.legend()\n",
    "plt.savefig(\"tmedios.png\")"
   ]
  },
  {
   "cell_type": "markdown",
   "metadata": {},
   "source": [
    "<h2>Situación 3: Medio con CO abundante pero con O2 pegados desde el inicio</h2>"
   ]
  },
  {
   "cell_type": "code",
   "execution_count": 191,
   "metadata": {},
   "outputs": [],
   "source": [
    "def gillespieS3(tmax,CO0):\n",
    "    h = 0 #Hemoglobinas\n",
    "    t = np.zeros(tmax)\n",
    "    \n",
    "    for i in range(tmax-1):\n",
    "        ko2 = kO2*(1+h) #Esto modela el incremento de la afinidad según el pegado de O2\n",
    "        s1 = ko2/(1+(h/ko2)**4) #Función de Hill de orden 4\n",
    "        \n",
    "        kco = kCO*(1+CO0+h) #Esto modela el incremento de la afinidad según el pegado de CO\n",
    "        s2 =  kco/(1+(h/kco)**4) #Función de Hill de orden 4\n",
    "\n",
    "        st = s1+s2\n",
    "    \n",
    "        #Generación del paso temporal \n",
    "        t[i+1] = t[i]+(-1/st)*np.log(np.random.rand())\n",
    "        \n",
    "        #Número aleatorio que corresponde al medio: Mucho O2 implica desviación proporcional a s1\n",
    "        m = np.random.normal(loc = s1,scale = s1/10000)\n",
    "        \n",
    "        #Caso en el que se pega una molécula de O2\n",
    "        if m <= (s1/st):\n",
    "            h += 1\n",
    "        \n",
    "        #En el caso en el que se pegue una molécula de CO, se modela como si no se hubiera pegado nada\n",
    "        elif m <= (s1+s2)/st:\n",
    "            h += 0\n",
    "            \n",
    "        if h + CO0== 4:\n",
    "            break\n",
    "                 \n",
    "    return max(t)\n",
    "\n",
    "tO2_1 = [] \n",
    "tO2_2 = [] \n",
    "tO2_3 = [] \n",
    "COs = [1,2,3] #Lista que contiene la cantidad de O2 que se pegan (también se usa esta lista para la cantidad de CO's)\n",
    "\n",
    "for i in range(its):\n",
    "    tO2_1.append(gillespieS3(itsG,COs[0]))\n",
    "    tO2_2.append(gillespieS3(itsG,COs[1]))\n",
    "    tO2_3.append(gillespieS3(itsG,COs[2]))"
   ]
  },
  {
   "cell_type": "code",
   "execution_count": 206,
   "metadata": {},
   "outputs": [
    {
     "data": {
      "image/png": "[encoded data removed]",
      "text/plain": [
       "<Figure size 432x432 with 1 Axes>"
      ]
     },
     "metadata": {
      "needs_background": "light"
     },
     "output_type": "display_data"
    }
   ],
   "source": [
    "#Graficando \n",
    "plt.figure(figsize=(6,6))\n",
    "plt.title(\"Tiempos medios de ligado en medio con CO abundante\")\n",
    "\n",
    "plt.hist(tO2_1,density=True,label=\"1 molécula de O2, $\\\\tau = {:.0f} \\pm {:.0f}$ ms\".format(np.mean(tO2_1),np.std(tO2_1)))\n",
    "\n",
    "plt.hist(tO2_2,density=True,label=\"2 moléculas de O2, $\\\\tau = {:.0f} \\pm {:.0f}$ ms\".format(np.mean(tO2_2),np.std(tO2_2)))\n",
    "\n",
    "plt.hist(tO2_3,density=True,label=\"3 moléculas de O2, $\\\\tau = {:.0f} \\pm {:.0f}$ ms\".format(np.mean(tO2_3),np.std(tO2_3)))\n",
    "\n",
    "plt.xlabel(\"Tiempo de llenado (ms)\")\n",
    "plt.xlim(0,20)\n",
    "plt.legend()\n",
    "plt.savefig(\"ligadoCO.png\")"
   ]
  },
  {
   "cell_type": "markdown",
   "metadata": {},
   "source": [
    "<h2>Situación 4: Medio con O2 abundante pero con CO pegados desde el inicio</h2>"
   ]
  },
  {
   "cell_type": "code",
   "execution_count": 194,
   "metadata": {},
   "outputs": [],
   "source": [
    "def gillespieS4(tmax,O20):\n",
    "    h = 0 #Hemoglobinas\n",
    "    t = np.zeros(tmax)\n",
    "    \n",
    "    for i in range(tmax-1):\n",
    "        ko2 = kO2*(1+O20+h) #Esto modela el incremento de la afinidad según el pegado de O2\n",
    "        s1 = ko2/(1+(h/ko2)**4) #Función de Hill de orden 4\n",
    "        \n",
    "        kco = kCO*(1+h) #Esto modela el incremento de la afinidad según el pegado de CO\n",
    "        s2 =  kco/(1+(h/kco)**4) #Función de Hill de orden 4\n",
    "\n",
    "        st = s1+s2\n",
    "    \n",
    "        #Generación del paso temporal \n",
    "        t[i+1] = t[i]+(-1/st)*np.log(np.random.rand())\n",
    "        \n",
    "        #Número aleatorio que corresponde al medio: Mucho CO implica desviación proporcional a s2\n",
    "        m = np.random.normal(loc = s2 ,scale = s2/10000)\n",
    "        \n",
    "        #Caso en el que se pega una molécula de O2\n",
    "        if m <= (s1/st):\n",
    "            h += 1\n",
    "        \n",
    "        #En el caso en el que se pegue una molécula de CO, se modela como si no se hubiera pegado nada\n",
    "        elif m <= (s1+s2)/st:\n",
    "            h += 0\n",
    "            \n",
    "        if h == 4:\n",
    "            break\n",
    "                 \n",
    "    return max(t)\n",
    "\n",
    "tCO_1 = [] \n",
    "tCO_2 = [] \n",
    "tCO_3 = []\n",
    "\n",
    "for i in range(its):\n",
    "    tCO_1.append(gillespieS4(itsG,COs[0]))\n",
    "    tCO_2.append(gillespieS4(itsG,COs[1]))\n",
    "    tCO_3.append(gillespieS4(itsG,COs[2]))"
   ]
  },
  {
   "cell_type": "code",
   "execution_count": 207,
   "metadata": {},
   "outputs": [
    {
     "data": {
      "image/png": "[encoded data removed]",
      "text/plain": [
       "<Figure size 432x432 with 1 Axes>"
      ]
     },
     "metadata": {
      "needs_background": "light"
     },
     "output_type": "display_data"
    }
   ],
   "source": [
    "#Graficando \n",
    "plt.figure(figsize=(6,6))\n",
    "plt.title(\"Tiempos medios de ligado en medio con O2 abundante\")\n",
    "\n",
    "plt.hist(tCO_1,density=True,label=\"1 molécula de CO, $\\\\tau = {:.0f} \\pm {:.0f}$ ms\".format(np.mean(tCO_1),np.std(tCO_1)))\n",
    "\n",
    "plt.hist(tCO_2,density=True,label=\"2 moléculas de CO, $\\\\tau = {:.0f} \\pm {:.0f}$ ms\".format(np.mean(tCO_2),np.std(tCO_2)))\n",
    "\n",
    "plt.hist(tCO_3,density=True,label=\"3 moléculas de CO, $\\\\tau = {:.0f} \\pm {:.0f}$ ms\".format(np.mean(tCO_3),np.std(tCO_3)))\n",
    "\n",
    "plt.xlabel(\"Tiempo de llenado (ms)\")\n",
    "plt.xlim(300,1000)\n",
    "plt.legend()\n",
    "plt.savefig(\"ligadoO2.png\")"
   ]
  }
 ],
 "metadata": {
  "kernelspec": {
   "display_name": "Python 3",
   "language": "python",
   "name": "python3"
  },
  "language_info": {
   "codemirror_mode": {
    "name": "ipython",
    "version": 3
   },
   "file_extension": ".py",
   "mimetype": "text/x-python",
   "name": "python",
   "nbconvert_exporter": "python",
   "pygments_lexer": "ipython3",
   "version": "3.7.4"
  }
 },
 "nbformat": 4,
 "nbformat_minor": 2
}
